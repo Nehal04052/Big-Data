{
 "cells": [
  {
   "cell_type": "markdown",
   "metadata": {
    "application/vnd.databricks.v1+cell": {
     "cellMetadata": {},
     "inputWidgets": {},
     "nuid": "02c5c676-68fe-4a3e-b369-3e7b19c3013b",
     "showTitle": false,
     "title": ""
    }
   },
   "source": [
    "# Customer Purchase Prediction & Effect of Micro-Numerosity\n",
    "\n",
    "#### **Description**:\n",
    "\n",
    "Customer Purchase Prediction involves leveraging machine learning algorithms to predict whether a customer will make a purchase based on various features such as age, gender, education, and review ratings. The Effect of Micro-Numerosity Model, in this context, refers to understanding how small variations in these features can influence purchasing behavior. By analyzing these attributes, machine learning models can identify patterns and correlations that might not be apparent through traditional analysis methods.\n",
    "\n",
    "#### **Key Features**:\n",
    "\n",
    "1. **Age** : Different age groups may exhibit different purchasing behaviors. Younger customers might be more inclined towards trendy products, while older customers may prefer quality and reliability.\n",
    "\n",
    "2. **Gender**: Gender-based preferences can significantly affect purchasing patterns. For instance, men and women might prioritize different aspects of a product.\n",
    "\n",
    "3. **Education**: Education level can influence purchasing decisions, with more educated customers potentially focusing on the value and features of a product.\n",
    "\n",
    "4. **Review**: Customer reviews play a crucial role in the decision-making process. Positive reviews can drive purchases, while negative reviews can deter potential buyers.\n",
    "\n",
    "5. **Purchased**: Historical purchase data helps in understanding repeat buying patterns and customer loyalty."
   ]
  },
  {
   "cell_type": "code",
   "execution_count": 0,
   "metadata": {
    "application/vnd.databricks.v1+cell": {
     "cellMetadata": {
      "byteLimit": 2048000,
      "rowLimit": 10000
     },
     "inputWidgets": {},
     "nuid": "3f05f03f-accd-4c08-b07a-2ec789124024",
     "showTitle": false,
     "title": ""
    }
   },
   "outputs": [
    {
     "output_type": "execute_result",
     "data": {
      "text/plain": [
       "[FileInfo(path='dbfs:/FileStore/tables/Admission_Chance.csv', name='Admission_Chance.csv', size=12905, modificationTime=1720190058000),\n",
       " FileInfo(path='dbfs:/FileStore/tables/Cancer.csv', name='Cancer.csv', size=125204, modificationTime=1720190099000),\n",
       " FileInfo(path='dbfs:/FileStore/tables/Credit_Default.csv', name='Credit_Default.csv', size=101152, modificationTime=1720190106000),\n",
       " FileInfo(path='dbfs:/FileStore/tables/Customer_Purchase.csv', name='Customer_Purchase.csv', size=1489, modificationTime=1720190113000),\n",
       " FileInfo(path='dbfs:/FileStore/tables/Fish.csv', name='Fish.csv', size=6349, modificationTime=1720190119000),\n",
       " FileInfo(path='dbfs:/FileStore/tables/Ice_Cream.csv', name='Ice_Cream.csv', size=4872, modificationTime=1720190124000),\n",
       " FileInfo(path='dbfs:/FileStore/tables/Test1.csv', name='Test1.csv', size=108, modificationTime=1720158698000),\n",
       " FileInfo(path='dbfs:/FileStore/tables/Test2.csv', name='Test2.csv', size=192, modificationTime=1720158698000),\n",
       " FileInfo(path='dbfs:/FileStore/tables/Test3.csv', name='Test3.csv', size=388, modificationTime=1720158699000),\n",
       " FileInfo(path='dbfs:/FileStore/tables/Test4.csv', name='Test4.csv', size=143, modificationTime=1720158699000),\n",
       " FileInfo(path='dbfs:/FileStore/tables/Test5.csv', name='Test5.csv', size=262, modificationTime=1720158699000)]"
      ]
     },
     "execution_count": 1,
     "metadata": {},
     "output_type": "execute_result"
    }
   ],
   "source": [
    "dbutils.fs.ls(\"dbfs:/FileStore/tables/\")"
   ]
  },
  {
   "cell_type": "code",
   "execution_count": 0,
   "metadata": {
    "application/vnd.databricks.v1+cell": {
     "cellMetadata": {
      "byteLimit": 2048000,
      "rowLimit": 10000
     },
     "inputWidgets": {},
     "nuid": "35f6d5ca-cdc1-46a6-8464-87fb0e18a3ee",
     "showTitle": false,
     "title": ""
    }
   },
   "outputs": [],
   "source": [
    "from pyspark.sql import SparkSession\n",
    "from pyspark.sql.functions import col, when\n",
    "from pyspark.ml.feature import VectorAssembler,StringIndexer\n",
    "from pyspark.ml.feature import OneHotEncoder\n",
    "from pyspark.ml.classification import RandomForestClassifier\n",
    "from pyspark.ml.evaluation import MulticlassClassificationEvaluator"
   ]
  },
  {
   "cell_type": "code",
   "execution_count": 0,
   "metadata": {
    "application/vnd.databricks.v1+cell": {
     "cellMetadata": {
      "byteLimit": 2048000,
      "rowLimit": 10000
     },
     "inputWidgets": {},
     "nuid": "24276b6c-ae88-4a51-9073-046a350d47e8",
     "showTitle": false,
     "title": ""
    }
   },
   "outputs": [],
   "source": [
    "spark = SparkSession.builder.appName('Customer Purchase Prediction & Effect of Micro-Numerosity').getOrCreate() "
   ]
  },
  {
   "cell_type": "code",
   "execution_count": 0,
   "metadata": {
    "application/vnd.databricks.v1+cell": {
     "cellMetadata": {
      "byteLimit": 2048000,
      "rowLimit": 10000
     },
     "inputWidgets": {},
     "nuid": "24b5cdab-ef21-492d-9910-f47813cbee7c",
     "showTitle": false,
     "title": ""
    }
   },
   "outputs": [
    {
     "output_type": "execute_result",
     "data": {
      "text/html": [
       "\n",
       "            <div>\n",
       "                <p><b>SparkSession - hive</b></p>\n",
       "                \n",
       "        <div>\n",
       "            <p><b>SparkContext</b></p>\n",
       "\n",
       "            <p><a href=\"/?o=3338812497204728#setting/sparkui/0707-033416-dzfopq7d/driver-4352685867671526617\">Spark UI</a></p>\n",
       "\n",
       "            <dl>\n",
       "              <dt>Version</dt>\n",
       "                <dd><code>v3.5.0</code></dd>\n",
       "              <dt>Master</dt>\n",
       "                <dd><code>local[8]</code></dd>\n",
       "              <dt>AppName</dt>\n",
       "                <dd><code>Databricks Shell</code></dd>\n",
       "            </dl>\n",
       "        </div>\n",
       "        \n",
       "            </div>\n",
       "        "
      ],
      "text/plain": [
       "<pyspark.sql.session.SparkSession at 0x7f4391deae00>"
      ]
     },
     "execution_count": 4,
     "metadata": {},
     "output_type": "execute_result"
    }
   ],
   "source": [
    "spark"
   ]
  },
  {
   "cell_type": "code",
   "execution_count": 0,
   "metadata": {
    "application/vnd.databricks.v1+cell": {
     "cellMetadata": {
      "byteLimit": 2048000,
      "rowLimit": 10000
     },
     "inputWidgets": {},
     "nuid": "d9d348d7-9572-4434-8c59-f279c5d48a74",
     "showTitle": false,
     "title": ""
    }
   },
   "outputs": [],
   "source": [
    "\n",
    "df_pyspark = spark.read.csv('dbfs:/FileStore/tables/Customer_Purchase.csv',header=True,inferSchema=True)"
   ]
  },
  {
   "cell_type": "code",
   "execution_count": 0,
   "metadata": {
    "application/vnd.databricks.v1+cell": {
     "cellMetadata": {
      "byteLimit": 2048000,
      "rowLimit": 10000
     },
     "inputWidgets": {},
     "nuid": "66f4c648-d0a2-4d85-bcf8-c2eb3fe6166b",
     "showTitle": false,
     "title": ""
    }
   },
   "outputs": [
    {
     "output_type": "stream",
     "name": "stdout",
     "output_type": "stream",
     "text": [
      "root\n |-- Customer ID: integer (nullable = true)\n |-- Age: integer (nullable = true)\n |-- Gender: string (nullable = true)\n |-- Education: string (nullable = true)\n |-- Review: string (nullable = true)\n |-- Purchased: string (nullable = true)\n\n"
     ]
    }
   ],
   "source": [
    "df_pyspark.printSchema()"
   ]
  },
  {
   "cell_type": "code",
   "execution_count": 0,
   "metadata": {
    "application/vnd.databricks.v1+cell": {
     "cellMetadata": {
      "byteLimit": 2048000,
      "rowLimit": 10000
     },
     "inputWidgets": {},
     "nuid": "d8651cae-52ce-41ff-92dc-335a7fb18fe2",
     "showTitle": false,
     "title": ""
    }
   },
   "outputs": [
    {
     "output_type": "execute_result",
     "data": {
      "text/plain": [
       "DataFrame[Customer ID: int, Age: int, Gender: string, Education: string, Review: string, Purchased: string]"
      ]
     },
     "execution_count": 7,
     "metadata": {},
     "output_type": "execute_result"
    }
   ],
   "source": [
    "df_pyspark"
   ]
  },
  {
   "cell_type": "code",
   "execution_count": 0,
   "metadata": {
    "application/vnd.databricks.v1+cell": {
     "cellMetadata": {
      "byteLimit": 2048000,
      "rowLimit": 10000
     },
     "inputWidgets": {},
     "nuid": "57cd6b3a-c753-457a-80a9-257ca00f36be",
     "showTitle": false,
     "title": ""
    }
   },
   "outputs": [
    {
     "output_type": "stream",
     "name": "stdout",
     "output_type": "stream",
     "text": [
      "+-----------+---+------+---------+-------+---------+\n|Customer ID|Age|Gender|Education| Review|Purchased|\n+-----------+---+------+---------+-------+---------+\n|       1021| 30|Female|   School|Average|       No|\n|       1022| 68|Female|       UG|   Poor|       No|\n|       1023| 70|Female|       PG|   Good|       No|\n|       1024| 72|Female|       PG|   Good|       No|\n|       1025| 16|Female|       UG|Average|       No|\n|       1026| 31|Female|   School|Average|      Yes|\n|       1027| 18|  Male|   School|   Good|       No|\n|       1028| 60|Female|   School|   Poor|      Yes|\n|       1029| 65|Female|       UG|Average|       No|\n|       1030| 74|  Male|       UG|   Good|      Yes|\n|       1031| 98|Female|       UG|   Good|      Yes|\n|       1032| 74|  Male|       UG|   Good|      Yes|\n|       1033| 51|  Male|   School|   Poor|       No|\n|       1034| 57|Female|   School|Average|       No|\n|       1035| 15|  Male|       PG|   Poor|      Yes|\n|       1036| 75|  Male|       UG|   Poor|       No|\n|       1037| 59|  Male|       UG|   Poor|      Yes|\n|       1038| 22|Female|       UG|   Poor|      Yes|\n|       1039| 19|  Male|   School|   Good|       No|\n|       1040| 97|  Male|       PG|   Poor|      Yes|\n+-----------+---+------+---------+-------+---------+\nonly showing top 20 rows\n\n"
     ]
    }
   ],
   "source": [
    "df_pyspark.show()"
   ]
  },
  {
   "cell_type": "code",
   "execution_count": 0,
   "metadata": {
    "application/vnd.databricks.v1+cell": {
     "cellMetadata": {
      "byteLimit": 2048000,
      "rowLimit": 10000
     },
     "inputWidgets": {},
     "nuid": "b3fb82f3-62fc-480c-961d-60bc87322af7",
     "showTitle": false,
     "title": ""
    }
   },
   "outputs": [],
   "source": [
    "# Drop any rows with null values (if any)\n",
    "df_cleaned = df_pyspark.dropna()"
   ]
  },
  {
   "cell_type": "code",
   "execution_count": 0,
   "metadata": {
    "application/vnd.databricks.v1+cell": {
     "cellMetadata": {
      "byteLimit": 2048000,
      "rowLimit": 10000
     },
     "inputWidgets": {},
     "nuid": "3eefebe1-0eb3-46c1-b696-8752906b1472",
     "showTitle": false,
     "title": ""
    }
   },
   "outputs": [],
   "source": [
    "# Convert categorical variables to numerical using StringIndexer\n",
    "gender_indexer = StringIndexer(inputCol='Gender', outputCol='Gender_index')\n",
    "education_indexer = StringIndexer(inputCol='Education', outputCol='Education_index')\n",
    "review_indexer = StringIndexer(inputCol='Review', outputCol='Review_index')\n",
    "purchased_indexer = StringIndexer(inputCol='Purchased', outputCol='Purchased_index')\n",
    "\n",
    "df_indexed = gender_indexer.fit(df_cleaned).transform(df_cleaned)\n",
    "df_indexed = education_indexer.fit(df_indexed).transform(df_indexed)\n",
    "df_indexed = review_indexer.fit(df_indexed).transform(df_indexed)\n",
    "df_indexed = purchased_indexer.fit(df_indexed).transform(df_indexed)"
   ]
  },
  {
   "cell_type": "code",
   "execution_count": 0,
   "metadata": {
    "application/vnd.databricks.v1+cell": {
     "cellMetadata": {
      "byteLimit": 2048000,
      "rowLimit": 10000
     },
     "inputWidgets": {},
     "nuid": "3803200a-198c-4024-892b-7138a1be0188",
     "showTitle": false,
     "title": ""
    }
   },
   "outputs": [
    {
     "output_type": "stream",
     "name": "stdout",
     "output_type": "stream",
     "text": [
      "+-----------+---+------+---------+-------+---------+------------+---------------+------------+---------------+\n|Customer ID|Age|Gender|Education| Review|Purchased|Gender_index|Education_index|Review_index|Purchased_index|\n+-----------+---+------+---------+-------+---------+------------+---------------+------------+---------------+\n|       1021| 30|Female|   School|Average|       No|         0.0|            1.0|         2.0|            0.0|\n|       1022| 68|Female|       UG|   Poor|       No|         0.0|            2.0|         1.0|            0.0|\n|       1023| 70|Female|       PG|   Good|       No|         0.0|            0.0|         0.0|            0.0|\n|       1024| 72|Female|       PG|   Good|       No|         0.0|            0.0|         0.0|            0.0|\n|       1025| 16|Female|       UG|Average|       No|         0.0|            2.0|         2.0|            0.0|\n|       1026| 31|Female|   School|Average|      Yes|         0.0|            1.0|         2.0|            1.0|\n|       1027| 18|  Male|   School|   Good|       No|         1.0|            1.0|         0.0|            0.0|\n|       1028| 60|Female|   School|   Poor|      Yes|         0.0|            1.0|         1.0|            1.0|\n|       1029| 65|Female|       UG|Average|       No|         0.0|            2.0|         2.0|            0.0|\n|       1030| 74|  Male|       UG|   Good|      Yes|         1.0|            2.0|         0.0|            1.0|\n|       1031| 98|Female|       UG|   Good|      Yes|         0.0|            2.0|         0.0|            1.0|\n|       1032| 74|  Male|       UG|   Good|      Yes|         1.0|            2.0|         0.0|            1.0|\n|       1033| 51|  Male|   School|   Poor|       No|         1.0|            1.0|         1.0|            0.0|\n|       1034| 57|Female|   School|Average|       No|         0.0|            1.0|         2.0|            0.0|\n|       1035| 15|  Male|       PG|   Poor|      Yes|         1.0|            0.0|         1.0|            1.0|\n|       1036| 75|  Male|       UG|   Poor|       No|         1.0|            2.0|         1.0|            0.0|\n|       1037| 59|  Male|       UG|   Poor|      Yes|         1.0|            2.0|         1.0|            1.0|\n|       1038| 22|Female|       UG|   Poor|      Yes|         0.0|            2.0|         1.0|            1.0|\n|       1039| 19|  Male|   School|   Good|       No|         1.0|            1.0|         0.0|            0.0|\n|       1040| 97|  Male|       PG|   Poor|      Yes|         1.0|            0.0|         1.0|            1.0|\n+-----------+---+------+---------+-------+---------+------------+---------------+------------+---------------+\nonly showing top 20 rows\n\n"
     ]
    }
   ],
   "source": [
    "df_indexed.show()"
   ]
  },
  {
   "cell_type": "code",
   "execution_count": 0,
   "metadata": {
    "application/vnd.databricks.v1+cell": {
     "cellMetadata": {
      "byteLimit": 2048000,
      "rowLimit": 10000
     },
     "inputWidgets": {},
     "nuid": "5f3a4573-80fb-4022-871b-78f262c32ee1",
     "showTitle": false,
     "title": ""
    }
   },
   "outputs": [
    {
     "output_type": "stream",
     "name": "stdout",
     "output_type": "stream",
     "text": [
      "root\n |-- features: vector (nullable = true)\n |-- label: double (nullable = false)\n\n"
     ]
    }
   ],
   "source": [
    "# Select columns for RandomForestClassifier\n",
    "feature_columns = ['Age', 'Gender_index', 'Education_index', 'Review_index']\n",
    "assembler = VectorAssembler(inputCols=feature_columns, outputCol='features')\n",
    "df_assembled = assembler.transform(df_indexed)\n",
    "\n",
    "# Convert target column to numeric\n",
    "df_assembled = df_assembled.withColumn('label', col('Purchased_index'))\n",
    "\n",
    "# Select final data for model training\n",
    "data = df_assembled.select('features', 'label')\n",
    "\n",
    "# Show schema of final prepared data\n",
    "data.printSchema()"
   ]
  },
  {
   "cell_type": "code",
   "execution_count": 0,
   "metadata": {
    "application/vnd.databricks.v1+cell": {
     "cellMetadata": {
      "byteLimit": 2048000,
      "rowLimit": 10000
     },
     "inputWidgets": {},
     "nuid": "37ff4b0c-008e-4d12-9cda-d11ab300aab8",
     "showTitle": false,
     "title": ""
    }
   },
   "outputs": [
    {
     "output_type": "stream",
     "name": "stdout",
     "output_type": "stream",
     "text": [
      "+------------------+-----+\n|          features|label|\n+------------------+-----+\n|[30.0,0.0,1.0,2.0]|  0.0|\n|[68.0,0.0,2.0,1.0]|  0.0|\n|    (4,[0],[70.0])|  0.0|\n|    (4,[0],[72.0])|  0.0|\n|[16.0,0.0,2.0,2.0]|  0.0|\n|[31.0,0.0,1.0,2.0]|  1.0|\n|[18.0,1.0,1.0,0.0]|  0.0|\n|[60.0,0.0,1.0,1.0]|  1.0|\n|[65.0,0.0,2.0,2.0]|  0.0|\n|[74.0,1.0,2.0,0.0]|  1.0|\n|[98.0,0.0,2.0,0.0]|  1.0|\n|[74.0,1.0,2.0,0.0]|  1.0|\n|[51.0,1.0,1.0,1.0]|  0.0|\n|[57.0,0.0,1.0,2.0]|  0.0|\n|[15.0,1.0,0.0,1.0]|  1.0|\n|[75.0,1.0,2.0,1.0]|  0.0|\n|[59.0,1.0,2.0,1.0]|  1.0|\n|[22.0,0.0,2.0,1.0]|  1.0|\n|[19.0,1.0,1.0,0.0]|  0.0|\n|[97.0,1.0,0.0,1.0]|  1.0|\n+------------------+-----+\nonly showing top 20 rows\n\n"
     ]
    }
   ],
   "source": [
    "data.show()"
   ]
  },
  {
   "cell_type": "code",
   "execution_count": 0,
   "metadata": {
    "application/vnd.databricks.v1+cell": {
     "cellMetadata": {
      "byteLimit": 2048000,
      "rowLimit": 10000
     },
     "inputWidgets": {},
     "nuid": "700f6906-1eb0-4810-9b12-ac5cecf5d130",
     "showTitle": false,
     "title": ""
    }
   },
   "outputs": [],
   "source": [
    "# Split data into training and test sets\n",
    "(train_data, test_data) = data.randomSplit([0.8, 0.2], seed=42)"
   ]
  },
  {
   "cell_type": "code",
   "execution_count": 0,
   "metadata": {
    "application/vnd.databricks.v1+cell": {
     "cellMetadata": {
      "byteLimit": 2048000,
      "rowLimit": 10000
     },
     "inputWidgets": {},
     "nuid": "6e088956-c6e6-4038-bf10-23c16c6656a8",
     "showTitle": false,
     "title": ""
    }
   },
   "outputs": [],
   "source": [
    "# Initialize RandomForestClassifier\n",
    "rf = RandomForestClassifier(labelCol='label', featuresCol='features')\n",
    "\n",
    "# Train model\n",
    "model = rf.fit(train_data)"
   ]
  },
  {
   "cell_type": "code",
   "execution_count": 0,
   "metadata": {
    "application/vnd.databricks.v1+cell": {
     "cellMetadata": {
      "byteLimit": 2048000,
      "rowLimit": 10000
     },
     "inputWidgets": {},
     "nuid": "bb66c9d9-1849-4162-aaf5-d9bfa75ac7ce",
     "showTitle": false,
     "title": ""
    }
   },
   "outputs": [
    {
     "output_type": "stream",
     "name": "stdout",
     "output_type": "stream",
     "text": [
      "+-----+----------+----------------------------------------+\n|label|prediction|probability                             |\n+-----+----------+----------------------------------------+\n|0.0  |0.0       |[0.7215748418248418,0.2784251581751581] |\n|1.0  |0.0       |[0.5558322510822511,0.4441677489177489] |\n|1.0  |1.0       |[0.4135281385281385,0.5864718614718615] |\n|1.0  |0.0       |[0.5724087301587303,0.4275912698412698] |\n|1.0  |1.0       |[0.48524242424242436,0.5147575757575757]|\n|0.0  |0.0       |[0.6155681818181818,0.3844318181818182] |\n|1.0  |1.0       |[0.4133459595959596,0.5866540404040405] |\n|0.0  |0.0       |[0.7284319846819847,0.27156801531801533]|\n|1.0  |0.0       |[0.5088571428571428,0.4911428571428572] |\n|1.0  |1.0       |[0.43600000000000005,0.564]             |\n+-----+----------+----------------------------------------+\nonly showing top 10 rows\n\n"
     ]
    }
   ],
   "source": [
    "# Make predictions\n",
    "predictions = model.transform(test_data)\n",
    "\n",
    "# Show predictions\n",
    "predictions.select('label', 'prediction', 'probability').show(10, False)"
   ]
  },
  {
   "cell_type": "code",
   "execution_count": 0,
   "metadata": {
    "application/vnd.databricks.v1+cell": {
     "cellMetadata": {
      "byteLimit": 2048000,
      "rowLimit": 10000
     },
     "inputWidgets": {},
     "nuid": "d3479ba7-86c0-4422-b516-c8d5cfb0f313",
     "showTitle": false,
     "title": ""
    }
   },
   "outputs": [
    {
     "output_type": "stream",
     "name": "stdout",
     "output_type": "stream",
     "text": [
      "+-----+----------+-----+\n|label|prediction|count|\n+-----+----------+-----+\n|  1.0|       1.0|    5|\n|  0.0|       1.0|    1|\n|  1.0|       0.0|    3|\n|  0.0|       0.0|    3|\n+-----+----------+-----+\n\nAccuracy: 0.6666666666666666\nPrecision: 0.7222222222222222\nRecall: 0.6666666666666667\nF1-Score: 0.6761904761904762\n"
     ]
    }
   ],
   "source": [
    "# Confusion matrix\n",
    "predictions.groupBy('label', 'prediction').count().show()\n",
    "\n",
    "# Evaluate model using accuracy, precision, recall, and F1-score\n",
    "evaluator = MulticlassClassificationEvaluator(labelCol='label', predictionCol='prediction')\n",
    "\n",
    "# Accuracy\n",
    "accuracy = evaluator.evaluate(predictions, {evaluator.metricName: \"accuracy\"})\n",
    "print(f\"Accuracy: {accuracy}\")\n",
    "\n",
    "# Precision\n",
    "precision = evaluator.evaluate(predictions, {evaluator.metricName: \"weightedPrecision\"})\n",
    "print(f\"Precision: {precision}\")\n",
    "\n",
    "# Recall\n",
    "recall = evaluator.evaluate(predictions, {evaluator.metricName: \"weightedRecall\"})\n",
    "print(f\"Recall: {recall}\")\n",
    "\n",
    "# F1-score\n",
    "f1_score = evaluator.evaluate(predictions, {evaluator.metricName: \"f1\"})\n",
    "print(f\"F1-Score: {f1_score}\")\n"
   ]
  },
  {
   "cell_type": "code",
   "execution_count": 0,
   "metadata": {
    "application/vnd.databricks.v1+cell": {
     "cellMetadata": {
      "byteLimit": 2048000,
      "rowLimit": 10000
     },
     "inputWidgets": {},
     "nuid": "ad23b9d9-6c04-49d4-bcf1-3517d6e612ad",
     "showTitle": false,
     "title": ""
    }
   },
   "outputs": [],
   "source": [
    "# Save the trained logistic regression model\n",
    "model_path = \"./Internship_Sem-6_models/Customer_Purchase_Prediction_model\"\n",
    "model.save(model_path)"
   ]
  },
  {
   "cell_type": "code",
   "execution_count": 0,
   "metadata": {
    "application/vnd.databricks.v1+cell": {
     "cellMetadata": {
      "byteLimit": 2048000,
      "rowLimit": 10000
     },
     "inputWidgets": {},
     "nuid": "c5b5fd72-469b-4fb9-94db-2fed48d76f1a",
     "showTitle": false,
     "title": ""
    }
   },
   "outputs": [
    {
     "output_type": "execute_result",
     "data": {
      "text/plain": [
       "[FileInfo(path='dbfs:/Internship_Sem-6_models/Customer_Purchase_Prediction_model/data/', name='data/', size=0, modificationTime=0),\n",
       " FileInfo(path='dbfs:/Internship_Sem-6_models/Customer_Purchase_Prediction_model/metadata/', name='metadata/', size=0, modificationTime=0),\n",
       " FileInfo(path='dbfs:/Internship_Sem-6_models/Customer_Purchase_Prediction_model/treesMetadata/', name='treesMetadata/', size=0, modificationTime=0)]"
      ]
     },
     "execution_count": 22,
     "metadata": {},
     "output_type": "execute_result"
    }
   ],
   "source": [
    "dbutils.fs.ls(\"dbfs:/Internship_Sem-6_models/Customer_Purchase_Prediction_model\")"
   ]
  }
 ],
 "metadata": {
  "application/vnd.databricks.v1+notebook": {
   "dashboards": [],
   "environmentMetadata": null,
   "language": "python",
   "notebookMetadata": {
    "pythonIndentUnit": 4
   },
   "notebookName": "Purchase_Prediction_And_Micronumerosity",
   "widgets": {}
  }
 },
 "nbformat": 4,
 "nbformat_minor": 0
}
