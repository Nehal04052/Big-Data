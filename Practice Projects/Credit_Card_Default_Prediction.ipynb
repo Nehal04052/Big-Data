{
 "cells": [
  {
   "cell_type": "markdown",
   "metadata": {
    "application/vnd.databricks.v1+cell": {
     "cellMetadata": {},
     "inputWidgets": {},
     "nuid": "0a4d333c-6eb8-4b10-b276-f50b57436e72",
     "showTitle": false,
     "title": ""
    }
   },
   "source": [
    "# Credit Card Default Prediction\n",
    "####The data set consists of 2000 samples from each of two categories. Five variables are\n",
    "\n",
    "1. Income\n",
    "2. Age\n",
    "3. Loan\n",
    "4. Loan to Income (engineered feature)\n",
    "5. Default"
   ]
  },
  {
   "cell_type": "code",
   "execution_count": 0,
   "metadata": {
    "application/vnd.databricks.v1+cell": {
     "cellMetadata": {
      "byteLimit": 2048000,
      "rowLimit": 10000
     },
     "inputWidgets": {},
     "nuid": "8175772c-98cc-4e21-9a08-f0bb93f21fa8",
     "showTitle": false,
     "title": ""
    }
   },
   "outputs": [
    {
     "output_type": "execute_result",
     "data": {
      "text/plain": [
       "[FileInfo(path='dbfs:/FileStore/tables/Admission_Chance.csv', name='Admission_Chance.csv', size=12905, modificationTime=1720190058000),\n",
       " FileInfo(path='dbfs:/FileStore/tables/Cancer.csv', name='Cancer.csv', size=125204, modificationTime=1720190099000),\n",
       " FileInfo(path='dbfs:/FileStore/tables/Credit_Default.csv', name='Credit_Default.csv', size=101152, modificationTime=1720190106000),\n",
       " FileInfo(path='dbfs:/FileStore/tables/Customer_Purchase.csv', name='Customer_Purchase.csv', size=1489, modificationTime=1720190113000),\n",
       " FileInfo(path='dbfs:/FileStore/tables/Fish.csv', name='Fish.csv', size=6349, modificationTime=1720190119000),\n",
       " FileInfo(path='dbfs:/FileStore/tables/Ice_Cream.csv', name='Ice_Cream.csv', size=4872, modificationTime=1720190124000),\n",
       " FileInfo(path='dbfs:/FileStore/tables/Test1.csv', name='Test1.csv', size=108, modificationTime=1720158698000),\n",
       " FileInfo(path='dbfs:/FileStore/tables/Test2.csv', name='Test2.csv', size=192, modificationTime=1720158698000),\n",
       " FileInfo(path='dbfs:/FileStore/tables/Test3.csv', name='Test3.csv', size=388, modificationTime=1720158699000),\n",
       " FileInfo(path='dbfs:/FileStore/tables/Test4.csv', name='Test4.csv', size=143, modificationTime=1720158699000),\n",
       " FileInfo(path='dbfs:/FileStore/tables/Test5.csv', name='Test5.csv', size=262, modificationTime=1720158699000)]"
      ]
     },
     "execution_count": 1,
     "metadata": {},
     "output_type": "execute_result"
    }
   ],
   "source": [
    "dbutils.fs.ls(\"dbfs:/FileStore/tables/\")"
   ]
  },
  {
   "cell_type": "code",
   "execution_count": 0,
   "metadata": {
    "application/vnd.databricks.v1+cell": {
     "cellMetadata": {
      "byteLimit": 2048000,
      "rowLimit": 10000
     },
     "inputWidgets": {},
     "nuid": "b415d214-fa84-4ead-be95-0037cfbda54b",
     "showTitle": false,
     "title": ""
    }
   },
   "outputs": [],
   "source": [
    "from pyspark.sql import SparkSession\n",
    "from pyspark.ml.feature import VectorAssembler\n",
    "from pyspark.ml.classification import LogisticRegression\n",
    "from pyspark.ml.evaluation import BinaryClassificationEvaluator, MulticlassClassificationEvaluator\n",
    "from pyspark.ml.feature import StringIndexer\n",
    "from pyspark.sql.functions import col"
   ]
  },
  {
   "cell_type": "code",
   "execution_count": 0,
   "metadata": {
    "application/vnd.databricks.v1+cell": {
     "cellMetadata": {
      "byteLimit": 2048000,
      "rowLimit": 10000
     },
     "inputWidgets": {},
     "nuid": "36ac470f-6025-4abd-8dd4-b9e5805bbb21",
     "showTitle": false,
     "title": ""
    }
   },
   "outputs": [],
   "source": [
    "spark = SparkSession.builder.appName('Credit Card Default Prediction').getOrCreate() "
   ]
  },
  {
   "cell_type": "code",
   "execution_count": 0,
   "metadata": {
    "application/vnd.databricks.v1+cell": {
     "cellMetadata": {
      "byteLimit": 2048000,
      "rowLimit": 10000
     },
     "inputWidgets": {},
     "nuid": "2cdddd08-dafe-48b1-b64d-8d99a67112df",
     "showTitle": false,
     "title": ""
    }
   },
   "outputs": [
    {
     "output_type": "execute_result",
     "data": {
      "text/html": [
       "\n",
       "            <div>\n",
       "                <p><b>SparkSession - hive</b></p>\n",
       "                \n",
       "        <div>\n",
       "            <p><b>SparkContext</b></p>\n",
       "\n",
       "            <p><a href=\"/?o=3338812497204728#setting/sparkui/0707-033416-dzfopq7d/driver-4352685867671526617\">Spark UI</a></p>\n",
       "\n",
       "            <dl>\n",
       "              <dt>Version</dt>\n",
       "                <dd><code>v3.5.0</code></dd>\n",
       "              <dt>Master</dt>\n",
       "                <dd><code>local[8]</code></dd>\n",
       "              <dt>AppName</dt>\n",
       "                <dd><code>Databricks Shell</code></dd>\n",
       "            </dl>\n",
       "        </div>\n",
       "        \n",
       "            </div>\n",
       "        "
      ],
      "text/plain": [
       "<pyspark.sql.session.SparkSession at 0x7efce1c0edd0>"
      ]
     },
     "execution_count": 4,
     "metadata": {},
     "output_type": "execute_result"
    }
   ],
   "source": [
    "spark"
   ]
  },
  {
   "cell_type": "code",
   "execution_count": 0,
   "metadata": {
    "application/vnd.databricks.v1+cell": {
     "cellMetadata": {
      "byteLimit": 2048000,
      "rowLimit": 10000
     },
     "inputWidgets": {},
     "nuid": "2d22c14f-3882-4bde-9035-bc058c419e3a",
     "showTitle": false,
     "title": ""
    }
   },
   "outputs": [],
   "source": [
    "df_pyspark = spark.read.csv('dbfs:/FileStore/tables/Credit_Default.csv',header=True,inferSchema=True)"
   ]
  },
  {
   "cell_type": "code",
   "execution_count": 0,
   "metadata": {
    "application/vnd.databricks.v1+cell": {
     "cellMetadata": {
      "byteLimit": 2048000,
      "rowLimit": 10000
     },
     "inputWidgets": {},
     "nuid": "6de66816-e1b8-4050-b709-3aeb6cf4f5f3",
     "showTitle": false,
     "title": ""
    }
   },
   "outputs": [
    {
     "output_type": "stream",
     "name": "stdout",
     "output_type": "stream",
     "text": [
      "root\n |-- Income: double (nullable = true)\n |-- Age: double (nullable = true)\n |-- Loan: double (nullable = true)\n |-- Loan to Income: double (nullable = true)\n |-- Default: integer (nullable = true)\n\n"
     ]
    }
   ],
   "source": [
    "df_pyspark.printSchema()"
   ]
  },
  {
   "cell_type": "code",
   "execution_count": 0,
   "metadata": {
    "application/vnd.databricks.v1+cell": {
     "cellMetadata": {
      "byteLimit": 2048000,
      "rowLimit": 10000
     },
     "inputWidgets": {},
     "nuid": "f5b32991-f8a9-4142-8e4c-7c7b359e1ceb",
     "showTitle": false,
     "title": ""
    }
   },
   "outputs": [
    {
     "output_type": "execute_result",
     "data": {
      "text/plain": [
       "DataFrame[Income: double, Age: double, Loan: double, Loan to Income: double, Default: int]"
      ]
     },
     "execution_count": 7,
     "metadata": {},
     "output_type": "execute_result"
    }
   ],
   "source": [
    "df_pyspark"
   ]
  },
  {
   "cell_type": "code",
   "execution_count": 0,
   "metadata": {
    "application/vnd.databricks.v1+cell": {
     "cellMetadata": {
      "byteLimit": 2048000,
      "rowLimit": 10000
     },
     "inputWidgets": {},
     "nuid": "8a2bc39a-09ec-42bb-a49b-f44ef3951d84",
     "showTitle": false,
     "title": ""
    }
   },
   "outputs": [
    {
     "output_type": "stream",
     "name": "stdout",
     "output_type": "stream",
     "text": [
      "+-----------+-----------+-----------+--------------+-------+\n|     Income|        Age|       Loan|Loan to Income|Default|\n+-----------+-----------+-----------+--------------+-------+\n| 66155.9251|59.01701507|8106.532131|   0.122536751|      0|\n|34415.15397| 48.1171531|6564.745018|   0.190751581|      0|\n|57317.17006|63.10804949|8020.953296|     0.1399398|      0|\n| 42709.5342|45.75197235| 6103.64226|   0.142910532|      0|\n|66952.68885|18.58433593|8770.099235|     0.1309895|      1|\n|24904.06414| 57.4716071|15.49859844|    6.22332E-4|      0|\n|48430.35961|26.80913242|5722.581981|   0.118161047|      0|\n|24500.14198|32.89754832| 2971.00331|   0.121264738|      1|\n|40654.89254|55.49685254| 4755.82528|   0.116980392|      0|\n|25075.87277|39.77637806|1409.230371|   0.056198657|      0|\n|64131.41537|25.67957535|4351.028971|   0.067845516|      0|\n|59436.84712|60.47193585|9254.244538|   0.155698779|      0|\n|61050.34608|26.35504385|5893.264659|   0.096531224|      0|\n|27267.99546|61.57677582|4759.787581|    0.17455583|      0|\n|63061.96017|39.20155289|1850.369377|   0.029342085|      0|\n|50501.72669|28.21836132|3977.287432|   0.078755474|      0|\n|43548.65471|39.57453035|3935.544453|   0.090371206|      0|\n|43378.17519|60.84831794|3277.737553|   0.075561905|      0|\n|20542.36507|61.69057071| 3157.44229|   0.153703932|      0|\n|58887.35755|26.07609302|4965.516066|   0.084322277|      0|\n+-----------+-----------+-----------+--------------+-------+\nonly showing top 20 rows\n\n"
     ]
    }
   ],
   "source": [
    "df_pyspark.show()"
   ]
  },
  {
   "cell_type": "code",
   "execution_count": 0,
   "metadata": {
    "application/vnd.databricks.v1+cell": {
     "cellMetadata": {
      "byteLimit": 2048000,
      "rowLimit": 10000
     },
     "inputWidgets": {},
     "nuid": "1e466057-24d9-43fc-88a1-b935c1661c51",
     "showTitle": false,
     "title": ""
    }
   },
   "outputs": [],
   "source": [
    "# Drop rows with null values if necessary\n",
    "df_pyspark= df_pyspark.dropna()"
   ]
  },
  {
   "cell_type": "code",
   "execution_count": 0,
   "metadata": {
    "application/vnd.databricks.v1+cell": {
     "cellMetadata": {
      "byteLimit": 2048000,
      "rowLimit": 10000
     },
     "inputWidgets": {},
     "nuid": "f1564af6-e835-4853-bfe2-bfd820ec8df4",
     "showTitle": false,
     "title": ""
    }
   },
   "outputs": [],
   "source": [
    "# Assemble features into a vector\n",
    "feature_cols = df_pyspark.columns[:4]  # Excluding 'diagnosis'\n",
    "assembler = VectorAssembler(inputCols=feature_cols, outputCol=\"features\")\n",
    "df_assembled = assembler.transform(df_pyspark)"
   ]
  },
  {
   "cell_type": "code",
   "execution_count": 0,
   "metadata": {
    "application/vnd.databricks.v1+cell": {
     "cellMetadata": {
      "byteLimit": 2048000,
      "rowLimit": 10000
     },
     "inputWidgets": {},
     "nuid": "ddfac9c6-b137-42af-bd5e-4d6fc5d2d2f0",
     "showTitle": false,
     "title": ""
    }
   },
   "outputs": [
    {
     "output_type": "stream",
     "name": "stdout",
     "output_type": "stream",
     "text": [
      "+--------------------+-------+\n|            features|Default|\n+--------------------+-------+\n|[66155.9251,59.01...|      0|\n|[34415.15397,48.1...|      0|\n|[57317.17006,63.1...|      0|\n|[42709.5342,45.75...|      0|\n|[66952.68885,18.5...|      1|\n|[24904.06414,57.4...|      0|\n|[48430.35961,26.8...|      0|\n|[24500.14198,32.8...|      1|\n|[40654.89254,55.4...|      0|\n|[25075.87277,39.7...|      0|\n|[64131.41537,25.6...|      0|\n|[59436.84712,60.4...|      0|\n|[61050.34608,26.3...|      0|\n|[27267.99546,61.5...|      0|\n|[63061.96017,39.2...|      0|\n|[50501.72669,28.2...|      0|\n|[43548.65471,39.5...|      0|\n|[43378.17519,60.8...|      0|\n|[20542.36507,61.6...|      0|\n|[58887.35755,26.0...|      0|\n+--------------------+-------+\nonly showing top 20 rows\n\n"
     ]
    }
   ],
   "source": [
    "df_assembled.select(\"features\",\"Default\").show()"
   ]
  },
  {
   "cell_type": "code",
   "execution_count": 0,
   "metadata": {
    "application/vnd.databricks.v1+cell": {
     "cellMetadata": {
      "byteLimit": 2048000,
      "rowLimit": 10000
     },
     "inputWidgets": {},
     "nuid": "299e94f3-9878-43b1-8824-c3dfd30decbc",
     "showTitle": false,
     "title": ""
    }
   },
   "outputs": [],
   "source": [
    "# Split data into training and testing sets\n",
    "train_data, test_data = df_assembled.randomSplit([0.8, 0.2], seed=42)"
   ]
  },
  {
   "cell_type": "code",
   "execution_count": 0,
   "metadata": {
    "application/vnd.databricks.v1+cell": {
     "cellMetadata": {
      "byteLimit": 2048000,
      "rowLimit": 10000
     },
     "inputWidgets": {},
     "nuid": "488bef1b-086d-4c9e-9cd8-a33ac01e627a",
     "showTitle": false,
     "title": ""
    }
   },
   "outputs": [],
   "source": [
    "# Initialize logistic regression model\n",
    "lr = LogisticRegression(featuresCol=\"features\", labelCol=\"Default\")\n",
    "\n",
    "# Fit the model\n",
    "lr_model = lr.fit(train_data)"
   ]
  },
  {
   "cell_type": "code",
   "execution_count": 0,
   "metadata": {
    "application/vnd.databricks.v1+cell": {
     "cellMetadata": {
      "byteLimit": 2048000,
      "rowLimit": 10000
     },
     "inputWidgets": {},
     "nuid": "6046ca48-50d0-43d4-89ce-9e4f1084de3f",
     "showTitle": false,
     "title": ""
    }
   },
   "outputs": [
    {
     "output_type": "stream",
     "name": "stdout",
     "output_type": "stream",
     "text": [
      "+-------+---+---+\n|Default|0.0|1.0|\n+-------+---+---+\n|      0|294|  8|\n|      1| 16| 40|\n+-------+---+---+\n\nBinary Classification Accuracy: 0.9804280983916746\nPrecision: 0.8333333333333334\nRecall: 0.7142857142857143\nF1-score: 0.7692307692307692\n"
     ]
    }
   ],
   "source": [
    "# Make predictions\n",
    "predictions = lr_model.transform(test_data)\n",
    "\n",
    "# Evaluate the model using BinaryClassificationEvaluator\n",
    "evaluator = BinaryClassificationEvaluator(labelCol=\"Default\")\n",
    "accuracy_binary = evaluator.evaluate(predictions)\n",
    "\n",
    "# Compute confusion matrix\n",
    "confusion_matrix = predictions.groupBy('Default').pivot('prediction').count().na.fill(0).orderBy('Default')\n",
    "confusion_matrix.show()\n",
    "\n",
    "# Compute classification report (precision, recall, f1-score)\n",
    "tp = predictions.filter((col(\"Default\") == 1.0) & (col(\"prediction\") == 1.0)).count()\n",
    "tn = predictions.filter((col(\"Default\") == 0.0) & (col(\"prediction\") == 0.0)).count()\n",
    "fp = predictions.filter((col(\"Default\") == 0.0) & (col(\"prediction\") == 1.0)).count()\n",
    "fn = predictions.filter((col(\"Default\") == 1.0) & (col(\"prediction\") == 0.0)).count()\n",
    "\n",
    "precision = tp / (tp + fp)\n",
    "recall = tp / (tp + fn)\n",
    "f1_score = 2 * (precision * recall) / (precision + recall)\n",
    "\n",
    "print(f\"Binary Classification Accuracy: {accuracy_binary}\")\n",
    "print(f\"Precision: {precision}\")\n",
    "print(f\"Recall: {recall}\")\n",
    "print(f\"F1-score: {f1_score}\")"
   ]
  },
  {
   "cell_type": "code",
   "execution_count": 0,
   "metadata": {
    "application/vnd.databricks.v1+cell": {
     "cellMetadata": {
      "byteLimit": 2048000,
      "rowLimit": 10000
     },
     "inputWidgets": {},
     "nuid": "78643842-602b-40c7-b7ec-80bb7c8b596c",
     "showTitle": false,
     "title": ""
    }
   },
   "outputs": [],
   "source": [
    "# Save the trained logistic regression model\n",
    "model_path = \"./Internship_Sem-6_models/Credit_Card_Default_Prediction_model\"\n",
    "lr_model.save(model_path)"
   ]
  },
  {
   "cell_type": "code",
   "execution_count": 0,
   "metadata": {
    "application/vnd.databricks.v1+cell": {
     "cellMetadata": {
      "byteLimit": 2048000,
      "rowLimit": 10000
     },
     "inputWidgets": {},
     "nuid": "2cfaf8dc-c5e0-47ea-99f0-2d1f28c56fc8",
     "showTitle": false,
     "title": ""
    }
   },
   "outputs": [
    {
     "output_type": "execute_result",
     "data": {
      "text/plain": [
       "[FileInfo(path='dbfs:/Internship_Sem-6_models/Credit_Card_Default_Prediction_model/data/', name='data/', size=0, modificationTime=0),\n",
       " FileInfo(path='dbfs:/Internship_Sem-6_models/Credit_Card_Default_Prediction_model/metadata/', name='metadata/', size=0, modificationTime=0)]"
      ]
     },
     "execution_count": 24,
     "metadata": {},
     "output_type": "execute_result"
    }
   ],
   "source": [
    "dbutils.fs.ls(\"dbfs:/Internship_Sem-6_models/Credit_Card_Default_Prediction_model\")"
   ]
  }
 ],
 "metadata": {
  "application/vnd.databricks.v1+notebook": {
   "dashboards": [],
   "environmentMetadata": null,
   "language": "python",
   "notebookMetadata": {
    "pythonIndentUnit": 4
   },
   "notebookName": "Credit_Card_Default_Prediction",
   "widgets": {}
  }
 },
 "nbformat": 4,
 "nbformat_minor": 0
}
